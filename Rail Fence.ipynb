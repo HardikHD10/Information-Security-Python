{
 "cells": [
  {
   "cell_type": "markdown",
   "id": "68b18411",
   "metadata": {
    "pycharm": {
     "name": "#%% md\n"
    }
   },
   "source": [
    "Rail Fence\n"
   ]
  },
  {
   "cell_type": "code",
   "execution_count": 1,
   "id": "eb7ef1b5",
   "metadata": {
    "pycharm": {
     "name": "#%%\n"
    }
   },
   "outputs": [
    {
     "name": "stdout",
     "output_type": "stream",
     "text": [
      "Enter your plain text here: his seven-layer cake only had six layers\n",
      "2 3 1 4 6 5 7\n",
      "[['h' 'i' 's' ' ' 's' 'e' 'v']\n",
      " ['e' 'n' '-' 'l' 'a' 'y' 'e']\n",
      " ['r' ' ' 'c' 'a' 'k' 'e' ' ']\n",
      " ['o' 'n' 'l' 'y' ' ' 'h' 'a']\n",
      " ['d' ' ' 's' 'i' 'x' ' ' 'l']\n",
      " ['a' 'y' 'e' 'r' 's' 'x' 'x']]\n",
      "Your ciphered text is:  s-clseherodain n y layireyeh xsak xsve alx\n",
      "Your deciphered text is: his seven-layer cake only had six layersxx\n"
     ]
    }
   ],
   "source": [
    "import numpy as np\n",
    "\n",
    "def creatematrix(plaintxt,key):\n",
    "    a=len(plaintxt)//len(key)\n",
    "    if len(plaintxt)%len(key)!=0:\n",
    "        for i in range(len(key)*(a+1)-len(plaintxt)):\n",
    "            plaintxt+='x'\n",
    "        return np.array(list(plaintxt)).reshape(a+1,len(key))\n",
    "    return np.array(list(plaintxt)).reshape(a,len(key))\n",
    "\n",
    "def encrypt(matrix,key):\n",
    "    ciphertxt=''\n",
    "    for i in range(len(key)):\n",
    "        c=key.index(i+1)\n",
    "        ciphertxt+=''.join(matrix[:,c])\n",
    "    return ciphertxt\n",
    "\n",
    "def decrypt(ciphertxt,key):\n",
    "    cc=''\n",
    "    c=len(ciphertxt)//len(key)\n",
    "    for i in key:\n",
    "        cc+=ciphertxt[(i-1)*c:(i-1)*c+c]\n",
    "    a=np.array(list(cc)).reshape(len(key),c).T\n",
    "    return ''.join(a.reshape(1,len(ciphertxt)).tolist()[0])\n",
    "    \n",
    "plaintxt=input('Enter your plain text here: ')\n",
    "key=list(map(int,input().split()))\n",
    "m=creatematrix(plaintxt,key)\n",
    "ciphertxt=encrypt(m,key)\n",
    "print(m)\n",
    "print('Your ciphered text is: ',ciphertxt)\n",
    "print('Your deciphered text is:',decrypt(ciphertxt,key))"
   ]
  },
  {
   "cell_type": "code",
   "execution_count": null,
   "id": "e03ff644",
   "metadata": {
    "pycharm": {
     "name": "#%%\n"
    }
   },
   "outputs": [],
   "source": []
  }
 ],
 "metadata": {
  "kernelspec": {
   "display_name": "Python 3",
   "language": "python",
   "name": "python3"
  },
  "language_info": {
   "codemirror_mode": {
    "name": "ipython",
    "version": 3
   },
   "file_extension": ".py",
   "mimetype": "text/x-python",
   "name": "python",
   "nbconvert_exporter": "python",
   "pygments_lexer": "ipython3",
   "version": "3.9.12"
  },
  "vscode": {
   "interpreter": {
    "hash": "81794d4967e6c3204c66dcd87b604927b115b27c00565d3d43f05ba2f3a2cb0d"
   }
  }
 },
 "nbformat": 4,
 "nbformat_minor": 5
}