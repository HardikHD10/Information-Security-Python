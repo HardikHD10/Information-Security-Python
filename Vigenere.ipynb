{
 "cells": [
  {
   "cell_type": "code",
   "execution_count": 1,
   "id": "704d735e",
   "metadata": {
    "pycharm": {
     "name": "#%%\n"
    }
   },
   "outputs": [
    {
     "name": "stdout",
     "output_type": "stream",
     "text": [
      "Enter String: his seven-layer cake only had six layers\n",
      "Enter keyword: vigenere\n",
      "Ciphertext : CQYXFIMIIORELIIXXIQIGSEPTBNEQXJMSBRELIIW\n",
      "Decrypted Text : HISTSEVENGLAYERTCAKETONLYTHADTSIXTLAYERS\n"
     ]
    }
   ],
   "source": [
    "def generateKey(string, key):\n",
    "    key = list(key)\n",
    "    if len(string) == len(key):\n",
    "        return(key)\n",
    "    else:\n",
    "        for i in range(len(string) -\n",
    "                       len(key)):\n",
    "            key.append(key[i % len(key)])\n",
    "    return(\"\" . join(key))\n",
    "     \n",
    "# This function returns the\n",
    "# encrypted text generated\n",
    "# with the help of the key\n",
    "def cipherText(string, key):\n",
    "    cipher_text = []\n",
    "    for i in range(len(string)):\n",
    "        x = (ord(string[i]) +\n",
    "             ord(key[i])) % 26\n",
    "        x += ord('A')\n",
    "        cipher_text.append(chr(x))\n",
    "    return(\"\" . join(cipher_text))\n",
    "     \n",
    "# This function decrypts the\n",
    "# encrypted text and returns\n",
    "# the original text\n",
    "def originalText(cipher_text, key):\n",
    "    orig_text = []\n",
    "    for i in range(len(cipher_text)):\n",
    "        x = (ord(cipher_text[i]) -\n",
    "             ord(key[i]) + 26) % 26\n",
    "        x += ord('A')\n",
    "        orig_text.append(chr(x))\n",
    "    return(\"\" . join(orig_text))\n",
    "     \n",
    "# Driver code\n",
    "if __name__ == \"__main__\":\n",
    "    string = input(\"Enter String: \").upper()\n",
    "    keyword = input(\"Enter keyword: \").upper()\n",
    "    key = generateKey(string, keyword)\n",
    "    cipher_text = cipherText(string,key)\n",
    "    print(\"Ciphertext :\", cipher_text)\n",
    "    print(\"Decrypted Text :\",\n",
    "           originalText(cipher_text, key))"
   ]
  },
  {
   "cell_type": "code",
   "execution_count": null,
   "id": "954f356d",
   "metadata": {
    "pycharm": {
     "name": "#%%\n"
    }
   },
   "outputs": [],
   "source": []
  }
 ],
 "metadata": {
  "kernelspec": {
   "display_name": "Python 3",
   "language": "python",
   "name": "python3"
  },
  "language_info": {
   "codemirror_mode": {
    "name": "ipython",
    "version": 3
   },
   "file_extension": ".py",
   "mimetype": "text/x-python",
   "name": "python",
   "nbconvert_exporter": "python",
   "pygments_lexer": "ipython3",
   "version": "3.9.12"
  }
 },
 "nbformat": 4,
 "nbformat_minor": 5
}