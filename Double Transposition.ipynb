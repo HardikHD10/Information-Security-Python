{
 "cells": [
  {
   "cell_type": "code",
   "execution_count": null,
   "outputs": [],
   "source": [
    "import numpy as np\n",
    "\n",
    "\n",
    "def creatematrix(plaintxt,key):\n",
    "    \n",
    "    a=len(plaintxt)//len(key)\n",
    "    if len(plaintxt)%len(key)!=0:\n",
    "        \n",
    "        for i in range(len(key)*(a+1)-len(plaintxt)):\n",
    "            plaintxt+='x'\n",
    "        return np.array(list(plaintxt)).reshape(a+1,len(key))\n",
    "    \n",
    "    return np.array(list(plaintxt)).reshape(a,len(key))\n",
    "\n",
    "def encrypt(creatematrix,matrix,key,key1):\n",
    "    \n",
    "    ciphertxt1=''\n",
    "    for i in range(len(key)):\n",
    "        \n",
    "        c=key.index(i+1)\n",
    "        ciphertxt1+=''.join(matrix[:,c])\n",
    "    print(ciphertxt1)\n",
    "    a=creatematrix(ciphertxt1,key1)\n",
    "    print(a)\n",
    "    \n",
    "    ciphertxt2=''\n",
    "    \n",
    "    for i in range(len(key1)):\n",
    "        k=key1.index(i+1)\n",
    "        ciphertxt2+=''.join(a[:,k])\n",
    "    return ciphertxt2\n",
    "\n",
    "\n",
    "def decrypt(ciphertxt,key,key1):\n",
    "    \n",
    "    cc=''\n",
    "    cc1=''\n",
    "    cc2=''\n",
    "    c=len(ciphertxt)//len(key1)\n",
    "    \n",
    "    for i in key1:\n",
    "        \n",
    "        cc+=ciphertxt[(i-1)*c:(i-1)*c+c]\n",
    "    a=np.array(list(cc)).reshape(len(key1),c).T\n",
    "    cc1=''.join(a.reshape(1,len(ciphertxt)).tolist()[0])\n",
    "    print(cc1)\n",
    "    \n",
    "    for i in key:\n",
    "        cc2+=cc1[(i-1)*c:(i-1)*c+c]\n",
    "    aa=np.array(list(cc2)).reshape(len(key1),c).T\n",
    "    return ''.join(aa.reshape(1,len(ciphertxt)).tolist()[0])\n",
    "    \n",
    "plaintxt=input('Enter your plain text here: ')\n",
    "\n",
    "key=list(map(int,input().split()))\n",
    "\n",
    "key1=list(map(int,input().split()))\n",
    "\n",
    "m=creatematrix(plaintxt,key)\n",
    "\n",
    "ciphertxt=encrypt(creatematrix,m,key,key1)\n",
    "\n",
    "print(m)\n",
    "print('Your ciphered text is: ',ciphertxt)\n",
    "print('Your deciphered text is:',decrypt(ciphertxt,key,key1))"
   ],
   "metadata": {
    "collapsed": false,
    "pycharm": {
     "name": "#%%\n"
    }
   }
  },
  {
   "cell_type": "code",
   "execution_count": null,
   "outputs": [],
   "source": [],
   "metadata": {
    "collapsed": false,
    "pycharm": {
     "name": "#%%\n"
    }
   }
  }
 ],
 "metadata": {
  "kernelspec": {
   "display_name": "Python 3",
   "language": "python",
   "name": "python3"
  },
  "language_info": {
   "codemirror_mode": {
    "name": "ipython",
    "version": 3
   },
   "file_extension": ".py",
   "mimetype": "text/x-python",
   "name": "python",
   "nbconvert_exporter": "python",
   "pygments_lexer": "ipython3",
   "version": "3.9.12"
  }
 },
 "nbformat": 4,
 "nbformat_minor": 5
}