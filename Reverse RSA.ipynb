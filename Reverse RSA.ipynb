{
 "cells": [
  {
   "cell_type": "code",
   "execution_count": 2,
   "id": "c47d2adc",
   "metadata": {
    "pycharm": {
     "name": "#%%\n"
    }
   },
   "outputs": [
    {
     "name": "stdout",
     "output_type": "stream",
     "text": [
      "Enter prime numbers p and q\n",
      "p: 17\n",
      "q: 5\n",
      "Enter message m\n",
      "m 86\n",
      "Toitent: 64\n",
      "The cofactors are: \n",
      "[3, 5, 7, 9, 11, 13, 15, 17, 19, 21, 23, 25, 27, 29, 31, 33, 35, 37, 39, 41, 43, 45, 47, 49, 51, 53, 55, 57, 59, 61, 63]\n",
      "Choosing a random cofactor (e): \n",
      "e : 9\n",
      "Inverse of e is: \n",
      "d : 57\n",
      "\n",
      "\n",
      "Signature Message : 1\n",
      "Message forwarded (M):  86\n",
      "Message deduced (M1) : 1\n",
      "M1:  1\n",
      "Digital Signature not verified\n"
     ]
    }
   ],
   "source": [
    "import random\n",
    "import math\n",
    "\n",
    "print(\"Enter prime numbers p and q\")\n",
    "p = int(input(\"p: \"))\n",
    "q = int(input(\"q: \"))\n",
    "print(\"Enter message m\")\n",
    "M = int(input(\"m \"))\n",
    "\n",
    "n = p * q\n",
    "toitentOF_n = (p - 1) * (q - 1)\n",
    "print(\"Toitent:\" ,toitentOF_n)\n",
    "\n",
    "def is_coprime(x, y):\n",
    "    return math.gcd(x, y) == 1\n",
    "\n",
    "\n",
    "cofactors = []\n",
    "\n",
    "for i in range(2, toitentOF_n):\n",
    "    if is_coprime(i, toitentOF_n):\n",
    "        cofactors.append(i)\n",
    "\n",
    "print(\"The cofactors are: \")\n",
    "print(cofactors)\n",
    "print(\"Choosing a random cofactor (e): \")\n",
    "e = random.choice(cofactors)\n",
    "print(\"e :\", e)\n",
    "\n",
    "# d = pow(e, -1, toitentOF_n)\n",
    "for i in range(1, toitentOF_n):\n",
    "    if (i * e) % toitentOF_n == 1:\n",
    "        d = i\n",
    "\n",
    "print(\"Inverse of e is: \")\n",
    "print(\"d :\", d)\n",
    "\n",
    "def signature(M, d, n):\n",
    "    i = 1\n",
    "    ans = M\n",
    "    while (i < d):\n",
    "        ans = ans * M\n",
    "        i = i + 1\n",
    "\n",
    "    # print(ans, \" \", M, \" \", e)\n",
    "    return ans % n\n",
    "\n",
    "def message(signature, e, n):\n",
    "    i = 1\n",
    "    ans = signature\n",
    "    while (i < e):\n",
    "        ans = ans * signature\n",
    "        i = i + 1\n",
    "\n",
    "    # print(ans, \" \", M, \" \", e)\n",
    "    return ans % n\n",
    "\n",
    "def verifyDigitalSignature(M,S,e,n):\n",
    "    m=1\n",
    "    M1=1\n",
    "    for i in range(e):\n",
    "        M1=((M1*S)%n)%n\n",
    "    print('M1: ',M1)    \n",
    "    if M==M1:\n",
    "        print('Digital Signature is verified')\n",
    "    else:\n",
    "        print('Digital Signature not verified')\n",
    "\n",
    "print(\"\\n\")\n",
    "# print(\"\\n\")\n",
    "signature_text = signature(M, d, n)\n",
    "print(\"Signature Message :\", signature_text)\n",
    "print(\"Message forwarded (M): \", M)\n",
    "message_text = message(signature_text, e, n)\n",
    "print(\"Message deduced (M1) :\", message_text)\n",
    "verifyDigitalSignature(M,signature_text,e,n)"
   ]
  },
  {
   "cell_type": "code",
   "execution_count": 6,
   "id": "6ffa2d90",
   "metadata": {
    "pycharm": {
     "name": "#%%\n"
    }
   },
   "outputs": [
    {
     "name": "stdout",
     "output_type": "stream",
     "text": [
      "Enter 2 prime numbers: \n",
      "p: 17\n",
      "q: 5\n",
      "Enter the message: \n",
      "m: 84\n",
      "n:  85\n",
      "toitent:  64\n",
      "e:  31\n",
      "d:  31\n",
      "Sig:  84\n",
      "message 84\n",
      "True\n"
     ]
    }
   ],
   "source": [
    "import math\n",
    "import random\n",
    "\n",
    "\n",
    "def createDigitalSig(m,d,n):\n",
    "    sig = ((m%n)**d)%n\n",
    "\n",
    "    return [m,sig]\n",
    "\n",
    "\n",
    "\n",
    "\n",
    "def verifySig(m,s,e,n):\n",
    "    if(m == ((s%n)**e)%n):\n",
    "        return True\n",
    "    return False\n",
    "\n",
    "\n",
    "\n",
    "print(\"Enter 2 prime numbers: \")\n",
    "p = int(input(\"p: \"))\n",
    "q = int(input(\"q: \"))\n",
    "\n",
    "print(\"Enter the message: \")\n",
    "m = int(input(\"m: \"))\n",
    "\n",
    "n = p*q\n",
    "print(\"n: \",n)\n",
    "\n",
    "toitent = (p-1)*(q-1)\n",
    "print(\"toitent: \",toitent)\n",
    "\n",
    "cofactor = []\n",
    "\n",
    "for i in  range(2,toitent):\n",
    "    if(math.gcd(i,toitent) == 1):\n",
    "        cofactor.append(i)\n",
    "\n",
    "e = random.choice(cofactor)\n",
    "print(\"e: \",e)\n",
    "\n",
    "for i in range(1, toitent):\n",
    "    if(i*e)%toitent == 1:\n",
    "        d = i\n",
    "        break\n",
    "\n",
    "print(\"d: \",d)\n",
    "\n",
    "arr = createDigitalSig(m,d,n)\n",
    "print(\"Sig: \",arr[1])\n",
    "print(\"message\",arr[0])\n",
    "\n",
    "s = arr[1]\n",
    "print(verifySig(m,s,e,n))"
   ]
  },
  {
   "cell_type": "code",
   "execution_count": null,
   "id": "212f5aff",
   "metadata": {
    "pycharm": {
     "name": "#%%\n"
    }
   },
   "outputs": [],
   "source": []
  }
 ],
 "metadata": {
  "kernelspec": {
   "display_name": "Python 3",
   "language": "python",
   "name": "python3"
  },
  "language_info": {
   "codemirror_mode": {
    "name": "ipython",
    "version": 3
   },
   "file_extension": ".py",
   "mimetype": "text/x-python",
   "name": "python",
   "nbconvert_exporter": "python",
   "pygments_lexer": "ipython3",
   "version": "3.9.12"
  }
 },
 "nbformat": 4,
 "nbformat_minor": 5
}