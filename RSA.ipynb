{
 "cells": [
  {
   "cell_type": "code",
   "execution_count": 3,
   "id": "6c601291",
   "metadata": {
    "pycharm": {
     "name": "#%%\n"
    }
   },
   "outputs": [
    {
     "name": "stdout",
     "output_type": "stream",
     "text": [
      "Enter p: 7\n",
      "Enter q: 41\n",
      "e is: 169\n",
      "d is: 169\n",
      "Enter the plaintext: 75\n",
      "M (plaintext) is: 75\n",
      "C (encrypted message) is: 110\n",
      "D (decrypted message) is: 75\n"
     ]
    }
   ],
   "source": [
    "import math\n",
    "import random\n",
    "\n",
    "p=int(input(\"Enter p: \"))\n",
    "q=int(input(\"Enter q: \"))\n",
    "\n",
    "\n",
    "n=p*q\n",
    "phifun=(p-1)*(q-1)\n",
    "\n",
    "list=[]\n",
    "\n",
    "for i in range(phifun):\n",
    "    if(math.gcd(phifun,i)==1):\n",
    "        list.append(i)\n",
    "\n",
    "e1=random.choices(list, k=1)\n",
    "e=e1[0]\n",
    "print(\"e is:\",e)\n",
    "\n",
    "i=0\n",
    "while True:\n",
    "    d=(1+i*phifun)/e\n",
    "\n",
    "    if d.is_integer():\n",
    "        break\n",
    "    i=i+1\n",
    "\n",
    "print(\"d is:\",int(d))\n",
    "\n",
    "M=int(input(\"Enter the plaintext: \"))\n",
    "C=1\n",
    "for i in range(0,e):\n",
    "    C=(C*(M%n))%n\n",
    "print(\"M (plaintext) is:\",M)\n",
    "print(\"C (encrypted message) is:\",C)\n",
    "\n",
    "D=1\n",
    "for i in range(0,int(d)):\n",
    "    D=(D*(C%n))%n\n",
    "\n",
    "print(\"D (decrypted message) is:\",D)"
   ]
  },
  {
   "cell_type": "code",
   "execution_count": null,
   "id": "0b3dac62",
   "metadata": {
    "pycharm": {
     "name": "#%%\n"
    }
   },
   "outputs": [],
   "source": []
  },
  {
   "cell_type": "code",
   "execution_count": null,
   "id": "84fa08d7",
   "metadata": {
    "pycharm": {
     "name": "#%%\n"
    }
   },
   "outputs": [],
   "source": []
  },
  {
   "cell_type": "code",
   "execution_count": null,
   "id": "e09d3208",
   "metadata": {
    "pycharm": {
     "name": "#%%\n"
    }
   },
   "outputs": [],
   "source": []
  }
 ],
 "metadata": {
  "kernelspec": {
   "display_name": "Python 3",
   "language": "python",
   "name": "python3"
  },
  "language_info": {
   "codemirror_mode": {
    "name": "ipython",
    "version": 3
   },
   "file_extension": ".py",
   "mimetype": "text/x-python",
   "name": "python",
   "nbconvert_exporter": "python",
   "pygments_lexer": "ipython3",
   "version": "3.9.12"
  }
 },
 "nbformat": 4,
 "nbformat_minor": 5
}