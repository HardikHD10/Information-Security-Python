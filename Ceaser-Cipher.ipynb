{
 "cells": [
  {
   "cell_type": "code",
   "execution_count": 1,
   "id": "1733f0c0",
   "metadata": {},
   "outputs": [
    {
     "name": "stdout",
     "output_type": "stream",
     "text": [
      "Enter Your Text: awesome\n",
      "Enter Shift number: 2\n",
      "Encrypted: cyguqog\n",
      "Decrypted: awesome\n"
     ]
    }
   ],
   "source": [
    "#Ceaser Cipher Program \n",
    "\n",
    "text = input(\"Enter Your Text: \")\n",
    "s = int(input(\"Enter Shift number: \"))\n",
    "\n",
    "def encrypt(text,s):\n",
    "    \n",
    "    result = \"\"\n",
    "    for j in range(len(text)):\n",
    "        char = text[j]\n",
    "        if (char.isupper()):\n",
    "            result += chr((ord(char) + s - 65) % 26 + 65)\n",
    "        elif(char == ' '):\n",
    "            result = result + char\n",
    "        else :\n",
    "            result += chr((ord(char) + s - 97) % 26 + 97)\n",
    "    return result\n",
    "\n",
    "def decrypt(result1,s):\n",
    "    dec = \"\"\n",
    "    for j in range(len(result1)):\n",
    "        char = result1[j]\n",
    "        if (char.isupper()):\n",
    "            dec += chr((ord(char) - s - 65) % 26 + 65)\n",
    "        elif(char == ' '):\n",
    "            dec = dec + char\n",
    "        else: \n",
    "            dec += chr((ord(char) - s - 97) % 26 + 97)\n",
    "    return dec\n",
    "\n",
    "print (\"Encrypted: \" + encrypt(text,s))\n",
    "print (\"Decrypted: \" + decrypt(encrypt(text,s),s))\n"
   ]
  },
  {
   "cell_type": "code",
   "execution_count": null,
   "id": "a0ff19e1",
   "metadata": {},
   "outputs": [],
   "source": []
  }
 ],
 "metadata": {
  "kernelspec": {
   "display_name": "Python 3",
   "language": "python",
   "name": "python3"
  },
  "language_info": {
   "codemirror_mode": {
    "name": "ipython",
    "version": 3
   },
   "file_extension": ".py",
   "mimetype": "text/x-python",
   "name": "python",
   "nbconvert_exporter": "python",
   "pygments_lexer": "ipython3",
   "version": "3.9.12"
  }
 },
 "nbformat": 4,
 "nbformat_minor": 5
}
