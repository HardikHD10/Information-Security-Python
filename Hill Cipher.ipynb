{
 "cells": [
  {
   "cell_type": "code",
   "execution_count": 1,
   "id": "0e94768a",
   "metadata": {
    "pycharm": {
     "name": "#%%\n"
    }
   },
   "outputs": [
    {
     "name": "stdout",
     "output_type": "stream",
     "text": [
      "Enter the plaintext: ACT\n",
      "Enter the keyword: GYBNQKURP\n",
      "The encrypted text is POH\n",
      "The decrypted text is ACT\n"
     ]
    }
   ],
   "source": [
    "import numpy as np\n",
    "\n",
    "class encryption:\n",
    "    def encrypt(self,p,k):\n",
    "        n = len(p)\n",
    "        while(len(p)< len(k)):\n",
    "            p +=\"Z\"\n",
    "        p = p.upper()\n",
    "        k = k.upper()\n",
    "        num = int(len(k) ** 0.5)\n",
    "        \n",
    "        plain = np.zeros((num,num))\n",
    "        key = np.zeros((num,num))\n",
    "        enc = np.zeros((num,num))\n",
    "        \n",
    "        a = 0\n",
    "        for i in range(num):\n",
    "            for j in range(num):\n",
    "                plain[i][j] = (ord(p[a]) - 65)\n",
    "                key[i][j] = (ord(k[a]) - 65)\n",
    "                a+=1\n",
    "        # print(key)\n",
    "        \n",
    "        for i in range(num):\n",
    "            enc[i] = np.dot(key,plain[i])\n",
    "        encry_text = \"\"\n",
    "        \n",
    "        for i in range(num):\n",
    "            for j in range(num):\n",
    "                encry_text += chr((int(enc[i][j]) % 26)+65)\n",
    "        \n",
    "        return encry_text,n\n",
    "        \n",
    "    def decryption(self,c,k,n):\n",
    "        c = c.upper()\n",
    "        k = k.upper()\n",
    "        num = int(len(k) ** 0.5)\n",
    "        \n",
    "        cipher = np.zeros((num,num))\n",
    "        key = np.zeros((num,num))\n",
    "        dec = np.zeros((num,num))\n",
    "        \n",
    "        a = 0\n",
    "        for i in range(num):\n",
    "            for j in range(num):\n",
    "                key[i][j] = (ord(k[a]) - 65)\n",
    "                a+=1\n",
    "                \n",
    "        det = round(np.linalg.det(key) % 26)\n",
    "\n",
    "        a=1\n",
    "        while((a*det) % 26 != 1):\n",
    "            if a>26:\n",
    "                print(f\"Determinant is {round(np.linalg.det(key))} so, The multiplicative inverse is not possible.\")\n",
    "                exit()\n",
    "            a+=2\n",
    "            \n",
    "        inv_matrix = (((np.linalg.inv(key) * np.linalg.det(key)) % 26) * a) % 26\n",
    "        \n",
    "        a = 0\n",
    "        for i in range(num):\n",
    "            for j in range(num):\n",
    "                cipher[i][j] = (ord(c[a]) - 65)\n",
    "                a+=1\n",
    "    \n",
    "        for i in range(num):\n",
    "            dec[i] = np.dot(inv_matrix,cipher[i])\n",
    "            \n",
    "        decr_text = \"\"\n",
    "        for i in range(num):\n",
    "            for j in range(num):\n",
    "                decr_text += chr((int(round(dec[i][j])) % 26)+65)\n",
    "                \n",
    "        while(len(decr_text) > n):\n",
    "            decr_text = decr_text.rstrip(decr_text[-1])\n",
    "                \n",
    "        return decr_text\n",
    "    \n",
    "p = input(\"Enter the plaintext: \")\n",
    "k = input(\"Enter the keyword: \")\n",
    "\n",
    "# p = \"EXAM\"\n",
    "# k = \"HILL\"\n",
    "\n",
    "E = encryption()\n",
    "enc,n = E.encrypt(p,k)\n",
    "encry = enc\n",
    "while(len(encry) > len(p)):\n",
    "    encry = encry.rstrip(encry[-1])\n",
    "\n",
    "print(\"The encrypted text is\",encry)\n",
    "print(\"The decrypted text is\",E.decryption(enc,k,n))\n"
   ]
  },
  {
   "cell_type": "code",
   "execution_count": null,
   "id": "6c8b6ef1",
   "metadata": {
    "pycharm": {
     "name": "#%%\n"
    }
   },
   "outputs": [],
   "source": []
  },
  {
   "cell_type": "code",
   "execution_count": null,
   "id": "6fd5370d",
   "metadata": {
    "pycharm": {
     "name": "#%%\n"
    }
   },
   "outputs": [],
   "source": []
  }
 ],
 "metadata": {
  "kernelspec": {
   "display_name": "Python 3",
   "language": "python",
   "name": "python3"
  },
  "language_info": {
   "codemirror_mode": {
    "name": "ipython",
    "version": 3
   },
   "file_extension": ".py",
   "mimetype": "text/x-python",
   "name": "python",
   "nbconvert_exporter": "python",
   "pygments_lexer": "ipython3",
   "version": "3.9.12"
  }
 },
 "nbformat": 4,
 "nbformat_minor": 5
}